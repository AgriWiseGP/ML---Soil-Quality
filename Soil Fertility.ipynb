{
 "cells": [
  {
   "cell_type": "markdown",
   "id": "a209efea",
   "metadata": {},
   "source": [
    "# Discover and Visualize the Data to Gain Insights"
   ]
  },
  {
   "cell_type": "code",
   "execution_count": null,
   "id": "4ea0890e",
   "metadata": {},
   "outputs": [],
   "source": [
    "import pandas as pd\n",
    "import numpy as np"
   ]
  },
  {
   "cell_type": "code",
   "execution_count": null,
   "id": "973d7180",
   "metadata": {},
   "outputs": [],
   "source": [
    "data = pd.read_csv('./data2.csv')\n",
    "data.head()"
   ]
  },
  {
   "cell_type": "code",
   "execution_count": null,
   "id": "fed46b4c",
   "metadata": {},
   "outputs": [],
   "source": [
    "data.info()"
   ]
  },
  {
   "cell_type": "markdown",
   "id": "7618ca98",
   "metadata": {},
   "source": [
    "There are not null values"
   ]
  },
  {
   "cell_type": "code",
   "execution_count": null,
   "id": "1dfc56b2",
   "metadata": {},
   "outputs": [],
   "source": [
    "data.drop_duplicates()\n",
    "data.describe()"
   ]
  },
  {
   "cell_type": "code",
   "execution_count": null,
   "id": "4975b46b",
   "metadata": {},
   "outputs": [],
   "source": [
    "data['fertility'].value_counts()"
   ]
  },
  {
   "cell_type": "markdown",
   "id": "4fe6b1d0",
   "metadata": {},
   "source": [
    "- 0 describes low-fertility\n",
    "- 1 describes medium-fertility\n",
    "- 2 describes high-fertility"
   ]
  },
  {
   "cell_type": "code",
   "execution_count": null,
   "id": "1ced5db8",
   "metadata": {},
   "outputs": [],
   "source": [
    "work_data = data.copy()\n",
    "work_data.head()"
   ]
  },
  {
   "cell_type": "code",
   "execution_count": null,
   "id": "1910015c",
   "metadata": {},
   "outputs": [],
   "source": [
    "y = work_data[['fertility']]\n",
    "X = work_data.drop('fertility', axis=1)"
   ]
  },
  {
   "cell_type": "code",
   "execution_count": null,
   "id": "4ea4fb8c",
   "metadata": {},
   "outputs": [],
   "source": [
    "X.head()"
   ]
  },
  {
   "cell_type": "code",
   "execution_count": null,
   "id": "5b9f9710",
   "metadata": {},
   "outputs": [],
   "source": [
    "y.head()"
   ]
  },
  {
   "cell_type": "code",
   "execution_count": null,
   "id": "507e7cec",
   "metadata": {},
   "outputs": [],
   "source": [
    "corr = X.corr()"
   ]
  },
  {
   "cell_type": "code",
   "execution_count": null,
   "id": "40dbdd02",
   "metadata": {},
   "outputs": [],
   "source": [
    "import seaborn as sns\n",
    "\n",
    "f, ax = plt.subplots(figsize=(6, 6))\n",
    "sns.heatmap(corr,\n",
    "    cmap=sns.diverging_palette(220, 10, as_cmap=True),\n",
    "    vmin=-1.0, vmax=1.0,\n",
    "    square=True, ax=ax)"
   ]
  },
  {
   "cell_type": "code",
   "execution_count": null,
   "id": "dae013bf",
   "metadata": {},
   "outputs": [],
   "source": [
    "X.hist(bins=50, figsize=(15,15))\n",
    "plt.show()"
   ]
  },
  {
   "cell_type": "markdown",
   "id": "b9ccfed5",
   "metadata": {},
   "source": [
    "# Prepare the Data for Machine Learning Algorithms"
   ]
  },
  {
   "cell_type": "markdown",
   "id": "81754cb4",
   "metadata": {},
   "source": [
    "### Feature Scaling"
   ]
  },
  {
   "cell_type": "code",
   "execution_count": null,
   "id": "18389af6",
   "metadata": {},
   "outputs": [],
   "source": [
    "transformed_X = X.apply(lambda x: np.log10(x) if np.issubdtype(x.dtype, np.number) else x)"
   ]
  },
  {
   "cell_type": "code",
   "execution_count": null,
   "id": "f5a164e2",
   "metadata": {},
   "outputs": [],
   "source": [
    "transformed_X.hist(bins=50, figsize=(15,15))\n",
    "plt.show()"
   ]
  },
  {
   "cell_type": "markdown",
   "id": "b196b17b",
   "metadata": {},
   "source": [
    "# Select and Train a Model"
   ]
  },
  {
   "cell_type": "markdown",
   "id": "a9dd04cf",
   "metadata": {},
   "source": [
    "### Splitting data into train and val"
   ]
  },
  {
   "cell_type": "code",
   "execution_count": null,
   "id": "1b8f3d04",
   "metadata": {},
   "outputs": [],
   "source": [
    "from sklearn.model_selection import train_test_split\n",
    "\n",
    "X_train, X_val, y_train, y_val = train_test_split(X, y, shuffle=True, random_state = 42)\n",
    "X_train.shape"
   ]
  },
  {
   "cell_type": "code",
   "execution_count": null,
   "id": "92d5b785",
   "metadata": {},
   "outputs": [],
   "source": [
    "from sklearn import tree, ensemble\n",
    "from sklearn.naive_bayes import GaussianNB\n",
    "from sklearn.svm import SVC\n",
    "from sklearn.neighbors import KNeighborsClassifier"
   ]
  },
  {
   "cell_type": "code",
   "execution_count": null,
   "id": "936b80ae",
   "metadata": {},
   "outputs": [],
   "source": [
    "y_train_ravel = y_train.values.ravel()"
   ]
  },
  {
   "cell_type": "code",
   "execution_count": null,
   "id": "b2ed2a69",
   "metadata": {},
   "outputs": [],
   "source": [
    "svcClf = SVC()\n",
    "svcClf.fit(X_train, y_train_ravel)\n",
    "svc_pred = SVCClf.predict(X_val)"
   ]
  },
  {
   "cell_type": "code",
   "execution_count": null,
   "id": "2e95fc38",
   "metadata": {},
   "outputs": [],
   "source": [
    "forestClf = ensemble.RandomForestClassifier()\n",
    "forestClf.fit(X_train, y_train_ravel)\n",
    "forest_pred = forestClf.predict(X_val)"
   ]
  },
  {
   "cell_type": "code",
   "execution_count": null,
   "id": "18a8e58a",
   "metadata": {},
   "outputs": [],
   "source": [
    "nbClf = GaussianNB()\n",
    "nbClf.fit(X_train, y_train_ravel)\n",
    "nb_pred = nbClf.predict(X_val)"
   ]
  },
  {
   "cell_type": "code",
   "execution_count": null,
   "id": "be871d00",
   "metadata": {},
   "outputs": [],
   "source": [
    "knnClf = KNeighborsClassifier()\n",
    "knnClf.fit(X_train, y_train_ravel)\n",
    "knn_pred = knnClf.predict(X_val)"
   ]
  },
  {
   "cell_type": "code",
   "execution_count": null,
   "id": "9ed9e418",
   "metadata": {},
   "outputs": [],
   "source": [
    "treeClf = tree.DecisionTreeClassifier()\n",
    "treeClf.fit(X_train, y_train_ravel)\n",
    "tree_pred = treeClf.predict(X_val)"
   ]
  },
  {
   "cell_type": "code",
   "execution_count": null,
   "id": "6c54ffb3",
   "metadata": {},
   "outputs": [],
   "source": [
    "from sklearn.metrics import accuracy_score\n",
    "\n",
    "models = [svcClf, forestClf, nbClf, knnClf, treeClf]\n",
    "accs = []\n",
    "titles = []\n",
    "\n",
    "for model in models:\n",
    "    pred = model.predict(X_val)\n",
    "    model_acc = accuracy_score(y_val, pred)\n",
    "    accs.append(model_acc)\n",
    "    titles.append(type(model).__name__)\n",
    "    print(type(model).__name__, \" accuarcy is \", model_acc)\n",
    "\n",
    "fig = plt.figure(figsize=(10, 5))\n",
    "sns.barplot(x = titles, y=accs)"
   ]
  },
  {
   "cell_type": "markdown",
   "id": "1854bcaa",
   "metadata": {},
   "source": [
    "### Pros & Cons\n",
    "**SVC**\n",
    "1. clear margin of separation between classes\n",
    "2. more effective in high dimensional spaces\n",
    "3. effective in cases where the number of dimensions is greater than the number of samples\n",
    "4. memory efficient                                                                                                          \n",
    "5. not suitable for large data sets                                                                                          \n",
    "\n",
    "**Random Forest Classifier**\n",
    "1. quite fast\n",
    "2. able to deal with unbalanced and missing data\n",
    "3. may over-fit data sets that are particularly noisy\n",
    "4. data-hungry\n",
    "\n",
    "**GaussianNB**\n",
    "1. very fast \n",
    "2. better than other models with less training data if the assumption of independence of features holds\n",
    "3. If you have categorical input variables, the Naive Bayes algorithm performs exceptionally well in comparison to numerical variables\n",
    "4. effectively works in Multi-class predictions.\n",
    "\n",
    "**KNeighborsClassifier**\n",
    "1. robust to noisy data\n",
    "2. effective if the training data is large\n",
    "\n",
    "**DecisionTreeClassifier**\n",
    "1. does not require normalization of data\n",
    "2. does not require scaling of data as well\n",
    "3. higher time to train the model"
   ]
  },
  {
   "cell_type": "code",
   "execution_count": null,
   "id": "afde4f80",
   "metadata": {},
   "outputs": [],
   "source": [
    "forest = ensemble.RandomForestClassifier(random_state=42)"
   ]
  },
  {
   "cell_type": "code",
   "execution_count": null,
   "id": "f7d06202",
   "metadata": {},
   "outputs": [],
   "source": [
    "param_grid = { \n",
    "    'n_estimators': [200, 300, 500],\n",
    "    'max_features': ['auto', 'sqrt', 'log2'],\n",
    "    'max_depth' : [4, 5, 6 ,7 ,8, 9, 10],\n",
    "    'criterion' :['gini', 'entropy']\n",
    "}"
   ]
  },
  {
   "cell_type": "code",
   "execution_count": null,
   "id": "b4449099",
   "metadata": {},
   "outputs": [],
   "source": [
    "from sklearn.model_selection import GridSearchCV\n",
    "\n",
    "clf = GridSearchCV(estimator=forest, param_grid=param_grid, cv= 5)\n",
    "clf.fit(X_train, y_train_ravel)"
   ]
  },
  {
   "cell_type": "code",
   "execution_count": null,
   "id": "3e4ed94e",
   "metadata": {},
   "outputs": [],
   "source": [
    "clf.best_params_"
   ]
  },
  {
   "cell_type": "code",
   "execution_count": null,
   "id": "4e0ff978",
   "metadata": {},
   "outputs": [],
   "source": []
  }
 ],
 "metadata": {
  "kernelspec": {
   "display_name": "Python 3 (ipykernel)",
   "language": "python",
   "name": "python3"
  },
  "language_info": {
   "codemirror_mode": {
    "name": "ipython",
    "version": 3
   },
   "file_extension": ".py",
   "mimetype": "text/x-python",
   "name": "python",
   "nbconvert_exporter": "python",
   "pygments_lexer": "ipython3",
   "version": "3.9.13"
  }
 },
 "nbformat": 4,
 "nbformat_minor": 5
}
