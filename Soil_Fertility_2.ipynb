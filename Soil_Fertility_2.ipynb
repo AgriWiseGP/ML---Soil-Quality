{
  "cells": [
    {
      "cell_type": "code",
      "source": [
        "#' ' means CPU whereas '/device:G:0' means GPU\n",
        "import tensorflow as tf\n",
        "tf.test.gpu_device_name()"
      ],
      "metadata": {
        "colab": {
          "base_uri": "https://localhost:8080/",
          "height": 35
        },
        "id": "z6QDQxNW66I_",
        "outputId": "38191a63-7374-4a92-d436-bbb9e02ed7a9"
      },
      "id": "z6QDQxNW66I_",
      "execution_count": 1,
      "outputs": [
        {
          "output_type": "execute_result",
          "data": {
            "text/plain": [
              "''"
            ],
            "application/vnd.google.colaboratory.intrinsic+json": {
              "type": "string"
            }
          },
          "metadata": {},
          "execution_count": 1
        }
      ]
    },
    {
      "cell_type": "code",
      "source": [
        "device_name = tf.test.gpu_device_name()\n",
        "if len(device_name) > 0:\n",
        "    print(\"Found GPU at: {}\".format(device_name))\n",
        "else:\n",
        "    device_name = \"/device:CPU:0\"\n",
        "    print(\"No GPU, using {}.\".format(device_name))"
      ],
      "metadata": {
        "colab": {
          "base_uri": "https://localhost:8080/"
        },
        "id": "V3VolCrU6-TS",
        "outputId": "d51b85b2-bd48-4bed-b676-400f6ba8625f"
      },
      "id": "V3VolCrU6-TS",
      "execution_count": 2,
      "outputs": [
        {
          "output_type": "stream",
          "name": "stdout",
          "text": [
            "No GPU, using /device:CPU:0.\n"
          ]
        }
      ]
    },
    {
      "cell_type": "code",
      "source": [
        "from google.colab import drive\n",
        "drive.mount('/content/drive')"
      ],
      "metadata": {
        "colab": {
          "base_uri": "https://localhost:8080/"
        },
        "id": "hQPw5O_p6_U3",
        "outputId": "27824617-b692-435d-e2b5-190c7d624a64"
      },
      "id": "hQPw5O_p6_U3",
      "execution_count": 3,
      "outputs": [
        {
          "output_type": "stream",
          "name": "stdout",
          "text": [
            "Mounted at /content/drive\n"
          ]
        }
      ]
    },
    {
      "cell_type": "code",
      "source": [
        "cd '/content/drive/MyDrive/AgriWise/ML/Soil Quality - Fertility'"
      ],
      "metadata": {
        "colab": {
          "base_uri": "https://localhost:8080/"
        },
        "id": "YjF8OVPn7FfN",
        "outputId": "13862711-8029-4f78-d576-9873d67d953d"
      },
      "id": "YjF8OVPn7FfN",
      "execution_count": 4,
      "outputs": [
        {
          "output_type": "stream",
          "name": "stdout",
          "text": [
            "/content/drive/.shortcut-targets-by-id/1nNpHsxhVob0qpN6DIX6h02v09VRuwzHw/AgriWise/ML/Soil Quality - Fertility\n"
          ]
        }
      ]
    },
    {
      "cell_type": "markdown",
      "id": "a209efea",
      "metadata": {
        "id": "a209efea"
      },
      "source": [
        "# Discover and Visualize the Data to Gain Insights"
      ]
    },
    {
      "cell_type": "code",
      "execution_count": 5,
      "id": "4ea0890e",
      "metadata": {
        "id": "4ea0890e"
      },
      "outputs": [],
      "source": [
        "import pandas as pd\n",
        "import numpy as np"
      ]
    },
    {
      "cell_type": "code",
      "execution_count": 16,
      "id": "973d7180",
      "metadata": {
        "colab": {
          "base_uri": "https://localhost:8080/",
          "height": 206
        },
        "id": "973d7180",
        "outputId": "2ab7365c-693f-444e-fdbd-b6d1eab93049"
      },
      "outputs": [
        {
          "output_type": "execute_result",
          "data": {
            "text/plain": [
              "     N    P    K    ph    ec    oc     S    zn    fe    cu    Mn     B  \\\n",
              "0  138  8.6  560  7.46  0.62  0.70   5.9  0.24  0.31  0.77  8.71  0.11   \n",
              "1  213  7.5  338  7.62  0.75  1.06  25.4  0.30  0.86  1.54  2.89  2.29   \n",
              "2  163  9.6  718  7.59  0.51  1.11  14.3  0.30  0.86  1.57  2.70  2.03   \n",
              "3  157  6.8  475  7.64  0.58  0.94  26.0  0.34  0.54  1.53  2.65  1.82   \n",
              "4  270  9.9  444  7.63  0.40  0.86  11.8  0.25  0.76  1.69  2.43  2.26   \n",
              "\n",
              "   fertility  \n",
              "0          0  \n",
              "1          0  \n",
              "2          0  \n",
              "3          0  \n",
              "4          1  "
            ],
            "text/html": [
              "\n",
              "  <div id=\"df-5072be6f-8eea-48da-a1ad-38c990230497\">\n",
              "    <div class=\"colab-df-container\">\n",
              "      <div>\n",
              "<style scoped>\n",
              "    .dataframe tbody tr th:only-of-type {\n",
              "        vertical-align: middle;\n",
              "    }\n",
              "\n",
              "    .dataframe tbody tr th {\n",
              "        vertical-align: top;\n",
              "    }\n",
              "\n",
              "    .dataframe thead th {\n",
              "        text-align: right;\n",
              "    }\n",
              "</style>\n",
              "<table border=\"1\" class=\"dataframe\">\n",
              "  <thead>\n",
              "    <tr style=\"text-align: right;\">\n",
              "      <th></th>\n",
              "      <th>N</th>\n",
              "      <th>P</th>\n",
              "      <th>K</th>\n",
              "      <th>ph</th>\n",
              "      <th>ec</th>\n",
              "      <th>oc</th>\n",
              "      <th>S</th>\n",
              "      <th>zn</th>\n",
              "      <th>fe</th>\n",
              "      <th>cu</th>\n",
              "      <th>Mn</th>\n",
              "      <th>B</th>\n",
              "      <th>fertility</th>\n",
              "    </tr>\n",
              "  </thead>\n",
              "  <tbody>\n",
              "    <tr>\n",
              "      <th>0</th>\n",
              "      <td>138</td>\n",
              "      <td>8.6</td>\n",
              "      <td>560</td>\n",
              "      <td>7.46</td>\n",
              "      <td>0.62</td>\n",
              "      <td>0.70</td>\n",
              "      <td>5.9</td>\n",
              "      <td>0.24</td>\n",
              "      <td>0.31</td>\n",
              "      <td>0.77</td>\n",
              "      <td>8.71</td>\n",
              "      <td>0.11</td>\n",
              "      <td>0</td>\n",
              "    </tr>\n",
              "    <tr>\n",
              "      <th>1</th>\n",
              "      <td>213</td>\n",
              "      <td>7.5</td>\n",
              "      <td>338</td>\n",
              "      <td>7.62</td>\n",
              "      <td>0.75</td>\n",
              "      <td>1.06</td>\n",
              "      <td>25.4</td>\n",
              "      <td>0.30</td>\n",
              "      <td>0.86</td>\n",
              "      <td>1.54</td>\n",
              "      <td>2.89</td>\n",
              "      <td>2.29</td>\n",
              "      <td>0</td>\n",
              "    </tr>\n",
              "    <tr>\n",
              "      <th>2</th>\n",
              "      <td>163</td>\n",
              "      <td>9.6</td>\n",
              "      <td>718</td>\n",
              "      <td>7.59</td>\n",
              "      <td>0.51</td>\n",
              "      <td>1.11</td>\n",
              "      <td>14.3</td>\n",
              "      <td>0.30</td>\n",
              "      <td>0.86</td>\n",
              "      <td>1.57</td>\n",
              "      <td>2.70</td>\n",
              "      <td>2.03</td>\n",
              "      <td>0</td>\n",
              "    </tr>\n",
              "    <tr>\n",
              "      <th>3</th>\n",
              "      <td>157</td>\n",
              "      <td>6.8</td>\n",
              "      <td>475</td>\n",
              "      <td>7.64</td>\n",
              "      <td>0.58</td>\n",
              "      <td>0.94</td>\n",
              "      <td>26.0</td>\n",
              "      <td>0.34</td>\n",
              "      <td>0.54</td>\n",
              "      <td>1.53</td>\n",
              "      <td>2.65</td>\n",
              "      <td>1.82</td>\n",
              "      <td>0</td>\n",
              "    </tr>\n",
              "    <tr>\n",
              "      <th>4</th>\n",
              "      <td>270</td>\n",
              "      <td>9.9</td>\n",
              "      <td>444</td>\n",
              "      <td>7.63</td>\n",
              "      <td>0.40</td>\n",
              "      <td>0.86</td>\n",
              "      <td>11.8</td>\n",
              "      <td>0.25</td>\n",
              "      <td>0.76</td>\n",
              "      <td>1.69</td>\n",
              "      <td>2.43</td>\n",
              "      <td>2.26</td>\n",
              "      <td>1</td>\n",
              "    </tr>\n",
              "  </tbody>\n",
              "</table>\n",
              "</div>\n",
              "      <button class=\"colab-df-convert\" onclick=\"convertToInteractive('df-5072be6f-8eea-48da-a1ad-38c990230497')\"\n",
              "              title=\"Convert this dataframe to an interactive table.\"\n",
              "              style=\"display:none;\">\n",
              "        \n",
              "  <svg xmlns=\"http://www.w3.org/2000/svg\" height=\"24px\"viewBox=\"0 0 24 24\"\n",
              "       width=\"24px\">\n",
              "    <path d=\"M0 0h24v24H0V0z\" fill=\"none\"/>\n",
              "    <path d=\"M18.56 5.44l.94 2.06.94-2.06 2.06-.94-2.06-.94-.94-2.06-.94 2.06-2.06.94zm-11 1L8.5 8.5l.94-2.06 2.06-.94-2.06-.94L8.5 2.5l-.94 2.06-2.06.94zm10 10l.94 2.06.94-2.06 2.06-.94-2.06-.94-.94-2.06-.94 2.06-2.06.94z\"/><path d=\"M17.41 7.96l-1.37-1.37c-.4-.4-.92-.59-1.43-.59-.52 0-1.04.2-1.43.59L10.3 9.45l-7.72 7.72c-.78.78-.78 2.05 0 2.83L4 21.41c.39.39.9.59 1.41.59.51 0 1.02-.2 1.41-.59l7.78-7.78 2.81-2.81c.8-.78.8-2.07 0-2.86zM5.41 20L4 18.59l7.72-7.72 1.47 1.35L5.41 20z\"/>\n",
              "  </svg>\n",
              "      </button>\n",
              "      \n",
              "  <style>\n",
              "    .colab-df-container {\n",
              "      display:flex;\n",
              "      flex-wrap:wrap;\n",
              "      gap: 12px;\n",
              "    }\n",
              "\n",
              "    .colab-df-convert {\n",
              "      background-color: #E8F0FE;\n",
              "      border: none;\n",
              "      border-radius: 50%;\n",
              "      cursor: pointer;\n",
              "      display: none;\n",
              "      fill: #1967D2;\n",
              "      height: 32px;\n",
              "      padding: 0 0 0 0;\n",
              "      width: 32px;\n",
              "    }\n",
              "\n",
              "    .colab-df-convert:hover {\n",
              "      background-color: #E2EBFA;\n",
              "      box-shadow: 0px 1px 2px rgba(60, 64, 67, 0.3), 0px 1px 3px 1px rgba(60, 64, 67, 0.15);\n",
              "      fill: #174EA6;\n",
              "    }\n",
              "\n",
              "    [theme=dark] .colab-df-convert {\n",
              "      background-color: #3B4455;\n",
              "      fill: #D2E3FC;\n",
              "    }\n",
              "\n",
              "    [theme=dark] .colab-df-convert:hover {\n",
              "      background-color: #434B5C;\n",
              "      box-shadow: 0px 1px 3px 1px rgba(0, 0, 0, 0.15);\n",
              "      filter: drop-shadow(0px 1px 2px rgba(0, 0, 0, 0.3));\n",
              "      fill: #FFFFFF;\n",
              "    }\n",
              "  </style>\n",
              "\n",
              "      <script>\n",
              "        const buttonEl =\n",
              "          document.querySelector('#df-5072be6f-8eea-48da-a1ad-38c990230497 button.colab-df-convert');\n",
              "        buttonEl.style.display =\n",
              "          google.colab.kernel.accessAllowed ? 'block' : 'none';\n",
              "\n",
              "        async function convertToInteractive(key) {\n",
              "          const element = document.querySelector('#df-5072be6f-8eea-48da-a1ad-38c990230497');\n",
              "          const dataTable =\n",
              "            await google.colab.kernel.invokeFunction('convertToInteractive',\n",
              "                                                     [key], {});\n",
              "          if (!dataTable) return;\n",
              "\n",
              "          const docLinkHtml = 'Like what you see? Visit the ' +\n",
              "            '<a target=\"_blank\" href=https://colab.research.google.com/notebooks/data_table.ipynb>data table notebook</a>'\n",
              "            + ' to learn more about interactive tables.';\n",
              "          element.innerHTML = '';\n",
              "          dataTable['output_type'] = 'display_data';\n",
              "          await google.colab.output.renderOutput(dataTable, element);\n",
              "          const docLink = document.createElement('div');\n",
              "          docLink.innerHTML = docLinkHtml;\n",
              "          element.appendChild(docLink);\n",
              "        }\n",
              "      </script>\n",
              "    </div>\n",
              "  </div>\n",
              "  "
            ]
          },
          "metadata": {},
          "execution_count": 16
        }
      ],
      "source": [
        "data = pd.read_csv('data1.csv')\n",
        "data.head()"
      ]
    },
    {
      "cell_type": "code",
      "execution_count": 17,
      "id": "fed46b4c",
      "metadata": {
        "colab": {
          "base_uri": "https://localhost:8080/"
        },
        "id": "fed46b4c",
        "outputId": "bfef407a-ef97-43d2-8076-0f6594109b8e"
      },
      "outputs": [
        {
          "output_type": "stream",
          "name": "stdout",
          "text": [
            "<class 'pandas.core.frame.DataFrame'>\n",
            "RangeIndex: 880 entries, 0 to 879\n",
            "Data columns (total 13 columns):\n",
            " #   Column     Non-Null Count  Dtype  \n",
            "---  ------     --------------  -----  \n",
            " 0   N          880 non-null    int64  \n",
            " 1   P          880 non-null    float64\n",
            " 2   K          880 non-null    int64  \n",
            " 3   ph         880 non-null    float64\n",
            " 4   ec         880 non-null    float64\n",
            " 5   oc         880 non-null    float64\n",
            " 6   S          880 non-null    float64\n",
            " 7   zn         880 non-null    float64\n",
            " 8   fe         880 non-null    float64\n",
            " 9   cu         880 non-null    float64\n",
            " 10  Mn         880 non-null    float64\n",
            " 11  B          880 non-null    float64\n",
            " 12  fertility  880 non-null    int64  \n",
            "dtypes: float64(10), int64(3)\n",
            "memory usage: 89.5 KB\n"
          ]
        }
      ],
      "source": [
        "data.info()"
      ]
    },
    {
      "cell_type": "markdown",
      "id": "7618ca98",
      "metadata": {
        "id": "7618ca98"
      },
      "source": [
        "There are not null values"
      ]
    },
    {
      "cell_type": "code",
      "execution_count": null,
      "id": "1dfc56b2",
      "metadata": {
        "id": "1dfc56b2",
        "outputId": "26731903-a269-434e-d066-fa234f63f4ba"
      },
      "outputs": [
        {
          "data": {
            "text/html": [
              "<div>\n",
              "<style scoped>\n",
              "    .dataframe tbody tr th:only-of-type {\n",
              "        vertical-align: middle;\n",
              "    }\n",
              "\n",
              "    .dataframe tbody tr th {\n",
              "        vertical-align: top;\n",
              "    }\n",
              "\n",
              "    .dataframe thead th {\n",
              "        text-align: right;\n",
              "    }\n",
              "</style>\n",
              "<table border=\"1\" class=\"dataframe\">\n",
              "  <thead>\n",
              "    <tr style=\"text-align: right;\">\n",
              "      <th></th>\n",
              "      <th>N</th>\n",
              "      <th>P</th>\n",
              "      <th>K</th>\n",
              "      <th>ph</th>\n",
              "      <th>ec</th>\n",
              "      <th>oc</th>\n",
              "      <th>S</th>\n",
              "      <th>zn</th>\n",
              "      <th>fe</th>\n",
              "      <th>cu</th>\n",
              "      <th>Mn</th>\n",
              "      <th>B</th>\n",
              "      <th>fertility</th>\n",
              "    </tr>\n",
              "  </thead>\n",
              "  <tbody>\n",
              "    <tr>\n",
              "      <th>count</th>\n",
              "      <td>880.00000</td>\n",
              "      <td>880.000000</td>\n",
              "      <td>880.000000</td>\n",
              "      <td>880.000000</td>\n",
              "      <td>880.000000</td>\n",
              "      <td>880.000000</td>\n",
              "      <td>880.000000</td>\n",
              "      <td>880.000000</td>\n",
              "      <td>880.000000</td>\n",
              "      <td>880.000000</td>\n",
              "      <td>880.000000</td>\n",
              "      <td>880.000000</td>\n",
              "      <td>880.000000</td>\n",
              "    </tr>\n",
              "    <tr>\n",
              "      <th>mean</th>\n",
              "      <td>246.73750</td>\n",
              "      <td>14.562159</td>\n",
              "      <td>499.978409</td>\n",
              "      <td>7.510500</td>\n",
              "      <td>0.543659</td>\n",
              "      <td>0.617989</td>\n",
              "      <td>7.545080</td>\n",
              "      <td>0.469273</td>\n",
              "      <td>4.140523</td>\n",
              "      <td>0.952443</td>\n",
              "      <td>8.666500</td>\n",
              "      <td>0.590159</td>\n",
              "      <td>0.588636</td>\n",
              "    </tr>\n",
              "    <tr>\n",
              "      <th>std</th>\n",
              "      <td>77.38886</td>\n",
              "      <td>21.967755</td>\n",
              "      <td>124.222838</td>\n",
              "      <td>0.464912</td>\n",
              "      <td>0.141597</td>\n",
              "      <td>0.842986</td>\n",
              "      <td>4.424184</td>\n",
              "      <td>1.894234</td>\n",
              "      <td>3.110011</td>\n",
              "      <td>0.465900</td>\n",
              "      <td>4.298828</td>\n",
              "      <td>0.570800</td>\n",
              "      <td>0.575462</td>\n",
              "    </tr>\n",
              "    <tr>\n",
              "      <th>min</th>\n",
              "      <td>6.00000</td>\n",
              "      <td>2.900000</td>\n",
              "      <td>11.000000</td>\n",
              "      <td>0.900000</td>\n",
              "      <td>0.100000</td>\n",
              "      <td>0.100000</td>\n",
              "      <td>0.640000</td>\n",
              "      <td>0.070000</td>\n",
              "      <td>0.210000</td>\n",
              "      <td>0.090000</td>\n",
              "      <td>0.110000</td>\n",
              "      <td>0.060000</td>\n",
              "      <td>0.000000</td>\n",
              "    </tr>\n",
              "    <tr>\n",
              "      <th>25%</th>\n",
              "      <td>201.00000</td>\n",
              "      <td>6.800000</td>\n",
              "      <td>412.000000</td>\n",
              "      <td>7.350000</td>\n",
              "      <td>0.430000</td>\n",
              "      <td>0.380000</td>\n",
              "      <td>4.700000</td>\n",
              "      <td>0.280000</td>\n",
              "      <td>2.050000</td>\n",
              "      <td>0.630000</td>\n",
              "      <td>6.225000</td>\n",
              "      <td>0.270000</td>\n",
              "      <td>0.000000</td>\n",
              "    </tr>\n",
              "    <tr>\n",
              "      <th>50%</th>\n",
              "      <td>257.00000</td>\n",
              "      <td>8.100000</td>\n",
              "      <td>475.000000</td>\n",
              "      <td>7.500000</td>\n",
              "      <td>0.545000</td>\n",
              "      <td>0.590000</td>\n",
              "      <td>6.640000</td>\n",
              "      <td>0.360000</td>\n",
              "      <td>3.565000</td>\n",
              "      <td>0.930000</td>\n",
              "      <td>8.345000</td>\n",
              "      <td>0.405000</td>\n",
              "      <td>1.000000</td>\n",
              "    </tr>\n",
              "    <tr>\n",
              "      <th>75%</th>\n",
              "      <td>307.00000</td>\n",
              "      <td>10.550000</td>\n",
              "      <td>581.000000</td>\n",
              "      <td>7.630000</td>\n",
              "      <td>0.640000</td>\n",
              "      <td>0.780000</td>\n",
              "      <td>8.750000</td>\n",
              "      <td>0.470000</td>\n",
              "      <td>6.320000</td>\n",
              "      <td>1.250000</td>\n",
              "      <td>11.472500</td>\n",
              "      <td>0.610000</td>\n",
              "      <td>1.000000</td>\n",
              "    </tr>\n",
              "    <tr>\n",
              "      <th>max</th>\n",
              "      <td>383.00000</td>\n",
              "      <td>125.000000</td>\n",
              "      <td>887.000000</td>\n",
              "      <td>11.150000</td>\n",
              "      <td>0.950000</td>\n",
              "      <td>24.000000</td>\n",
              "      <td>31.000000</td>\n",
              "      <td>42.000000</td>\n",
              "      <td>44.000000</td>\n",
              "      <td>3.020000</td>\n",
              "      <td>31.000000</td>\n",
              "      <td>2.820000</td>\n",
              "      <td>2.000000</td>\n",
              "    </tr>\n",
              "  </tbody>\n",
              "</table>\n",
              "</div>"
            ],
            "text/plain": [
              "               N           P           K          ph          ec          oc  \\\n",
              "count  880.00000  880.000000  880.000000  880.000000  880.000000  880.000000   \n",
              "mean   246.73750   14.562159  499.978409    7.510500    0.543659    0.617989   \n",
              "std     77.38886   21.967755  124.222838    0.464912    0.141597    0.842986   \n",
              "min      6.00000    2.900000   11.000000    0.900000    0.100000    0.100000   \n",
              "25%    201.00000    6.800000  412.000000    7.350000    0.430000    0.380000   \n",
              "50%    257.00000    8.100000  475.000000    7.500000    0.545000    0.590000   \n",
              "75%    307.00000   10.550000  581.000000    7.630000    0.640000    0.780000   \n",
              "max    383.00000  125.000000  887.000000   11.150000    0.950000   24.000000   \n",
              "\n",
              "                S          zn          fe          cu          Mn           B  \\\n",
              "count  880.000000  880.000000  880.000000  880.000000  880.000000  880.000000   \n",
              "mean     7.545080    0.469273    4.140523    0.952443    8.666500    0.590159   \n",
              "std      4.424184    1.894234    3.110011    0.465900    4.298828    0.570800   \n",
              "min      0.640000    0.070000    0.210000    0.090000    0.110000    0.060000   \n",
              "25%      4.700000    0.280000    2.050000    0.630000    6.225000    0.270000   \n",
              "50%      6.640000    0.360000    3.565000    0.930000    8.345000    0.405000   \n",
              "75%      8.750000    0.470000    6.320000    1.250000   11.472500    0.610000   \n",
              "max     31.000000   42.000000   44.000000    3.020000   31.000000    2.820000   \n",
              "\n",
              "        fertility  \n",
              "count  880.000000  \n",
              "mean     0.588636  \n",
              "std      0.575462  \n",
              "min      0.000000  \n",
              "25%      0.000000  \n",
              "50%      1.000000  \n",
              "75%      1.000000  \n",
              "max      2.000000  "
            ]
          },
          "execution_count": 4,
          "metadata": {},
          "output_type": "execute_result"
        }
      ],
      "source": [
        "data.drop_duplicates()\n",
        "data.describe()"
      ]
    },
    {
      "cell_type": "code",
      "execution_count": null,
      "id": "4975b46b",
      "metadata": {
        "id": "4975b46b",
        "outputId": "f2eea953-3dfa-40e6-a514-9cf363a8e440"
      },
      "outputs": [
        {
          "data": {
            "text/plain": [
              "1    440\n",
              "0    401\n",
              "2     39\n",
              "Name: fertility, dtype: int64"
            ]
          },
          "execution_count": 5,
          "metadata": {},
          "output_type": "execute_result"
        }
      ],
      "source": [
        "data['fertility'].value_counts()"
      ]
    },
    {
      "cell_type": "markdown",
      "id": "4fe6b1d0",
      "metadata": {
        "id": "4fe6b1d0"
      },
      "source": [
        "- 0 describes low-fertility\n",
        "- 1 describes medium-fertility\n",
        "- 2 describes high-fertility"
      ]
    },
    {
      "cell_type": "code",
      "execution_count": 19,
      "id": "1ced5db8",
      "metadata": {
        "colab": {
          "base_uri": "https://localhost:8080/",
          "height": 206
        },
        "id": "1ced5db8",
        "outputId": "14929961-5b7b-4194-9fde-2033b30bf69e"
      },
      "outputs": [
        {
          "output_type": "execute_result",
          "data": {
            "text/plain": [
              "     N    P    K    ph    ec    oc     S    zn    fe    cu    Mn     B  \\\n",
              "0  138  8.6  560  7.46  0.62  0.70   5.9  0.24  0.31  0.77  8.71  0.11   \n",
              "1  213  7.5  338  7.62  0.75  1.06  25.4  0.30  0.86  1.54  2.89  2.29   \n",
              "2  163  9.6  718  7.59  0.51  1.11  14.3  0.30  0.86  1.57  2.70  2.03   \n",
              "3  157  6.8  475  7.64  0.58  0.94  26.0  0.34  0.54  1.53  2.65  1.82   \n",
              "4  270  9.9  444  7.63  0.40  0.86  11.8  0.25  0.76  1.69  2.43  2.26   \n",
              "\n",
              "   fertility  \n",
              "0          0  \n",
              "1          0  \n",
              "2          0  \n",
              "3          0  \n",
              "4          1  "
            ],
            "text/html": [
              "\n",
              "  <div id=\"df-3eea5627-cad3-4fc9-b650-9d714f296169\">\n",
              "    <div class=\"colab-df-container\">\n",
              "      <div>\n",
              "<style scoped>\n",
              "    .dataframe tbody tr th:only-of-type {\n",
              "        vertical-align: middle;\n",
              "    }\n",
              "\n",
              "    .dataframe tbody tr th {\n",
              "        vertical-align: top;\n",
              "    }\n",
              "\n",
              "    .dataframe thead th {\n",
              "        text-align: right;\n",
              "    }\n",
              "</style>\n",
              "<table border=\"1\" class=\"dataframe\">\n",
              "  <thead>\n",
              "    <tr style=\"text-align: right;\">\n",
              "      <th></th>\n",
              "      <th>N</th>\n",
              "      <th>P</th>\n",
              "      <th>K</th>\n",
              "      <th>ph</th>\n",
              "      <th>ec</th>\n",
              "      <th>oc</th>\n",
              "      <th>S</th>\n",
              "      <th>zn</th>\n",
              "      <th>fe</th>\n",
              "      <th>cu</th>\n",
              "      <th>Mn</th>\n",
              "      <th>B</th>\n",
              "      <th>fertility</th>\n",
              "    </tr>\n",
              "  </thead>\n",
              "  <tbody>\n",
              "    <tr>\n",
              "      <th>0</th>\n",
              "      <td>138</td>\n",
              "      <td>8.6</td>\n",
              "      <td>560</td>\n",
              "      <td>7.46</td>\n",
              "      <td>0.62</td>\n",
              "      <td>0.70</td>\n",
              "      <td>5.9</td>\n",
              "      <td>0.24</td>\n",
              "      <td>0.31</td>\n",
              "      <td>0.77</td>\n",
              "      <td>8.71</td>\n",
              "      <td>0.11</td>\n",
              "      <td>0</td>\n",
              "    </tr>\n",
              "    <tr>\n",
              "      <th>1</th>\n",
              "      <td>213</td>\n",
              "      <td>7.5</td>\n",
              "      <td>338</td>\n",
              "      <td>7.62</td>\n",
              "      <td>0.75</td>\n",
              "      <td>1.06</td>\n",
              "      <td>25.4</td>\n",
              "      <td>0.30</td>\n",
              "      <td>0.86</td>\n",
              "      <td>1.54</td>\n",
              "      <td>2.89</td>\n",
              "      <td>2.29</td>\n",
              "      <td>0</td>\n",
              "    </tr>\n",
              "    <tr>\n",
              "      <th>2</th>\n",
              "      <td>163</td>\n",
              "      <td>9.6</td>\n",
              "      <td>718</td>\n",
              "      <td>7.59</td>\n",
              "      <td>0.51</td>\n",
              "      <td>1.11</td>\n",
              "      <td>14.3</td>\n",
              "      <td>0.30</td>\n",
              "      <td>0.86</td>\n",
              "      <td>1.57</td>\n",
              "      <td>2.70</td>\n",
              "      <td>2.03</td>\n",
              "      <td>0</td>\n",
              "    </tr>\n",
              "    <tr>\n",
              "      <th>3</th>\n",
              "      <td>157</td>\n",
              "      <td>6.8</td>\n",
              "      <td>475</td>\n",
              "      <td>7.64</td>\n",
              "      <td>0.58</td>\n",
              "      <td>0.94</td>\n",
              "      <td>26.0</td>\n",
              "      <td>0.34</td>\n",
              "      <td>0.54</td>\n",
              "      <td>1.53</td>\n",
              "      <td>2.65</td>\n",
              "      <td>1.82</td>\n",
              "      <td>0</td>\n",
              "    </tr>\n",
              "    <tr>\n",
              "      <th>4</th>\n",
              "      <td>270</td>\n",
              "      <td>9.9</td>\n",
              "      <td>444</td>\n",
              "      <td>7.63</td>\n",
              "      <td>0.40</td>\n",
              "      <td>0.86</td>\n",
              "      <td>11.8</td>\n",
              "      <td>0.25</td>\n",
              "      <td>0.76</td>\n",
              "      <td>1.69</td>\n",
              "      <td>2.43</td>\n",
              "      <td>2.26</td>\n",
              "      <td>1</td>\n",
              "    </tr>\n",
              "  </tbody>\n",
              "</table>\n",
              "</div>\n",
              "      <button class=\"colab-df-convert\" onclick=\"convertToInteractive('df-3eea5627-cad3-4fc9-b650-9d714f296169')\"\n",
              "              title=\"Convert this dataframe to an interactive table.\"\n",
              "              style=\"display:none;\">\n",
              "        \n",
              "  <svg xmlns=\"http://www.w3.org/2000/svg\" height=\"24px\"viewBox=\"0 0 24 24\"\n",
              "       width=\"24px\">\n",
              "    <path d=\"M0 0h24v24H0V0z\" fill=\"none\"/>\n",
              "    <path d=\"M18.56 5.44l.94 2.06.94-2.06 2.06-.94-2.06-.94-.94-2.06-.94 2.06-2.06.94zm-11 1L8.5 8.5l.94-2.06 2.06-.94-2.06-.94L8.5 2.5l-.94 2.06-2.06.94zm10 10l.94 2.06.94-2.06 2.06-.94-2.06-.94-.94-2.06-.94 2.06-2.06.94z\"/><path d=\"M17.41 7.96l-1.37-1.37c-.4-.4-.92-.59-1.43-.59-.52 0-1.04.2-1.43.59L10.3 9.45l-7.72 7.72c-.78.78-.78 2.05 0 2.83L4 21.41c.39.39.9.59 1.41.59.51 0 1.02-.2 1.41-.59l7.78-7.78 2.81-2.81c.8-.78.8-2.07 0-2.86zM5.41 20L4 18.59l7.72-7.72 1.47 1.35L5.41 20z\"/>\n",
              "  </svg>\n",
              "      </button>\n",
              "      \n",
              "  <style>\n",
              "    .colab-df-container {\n",
              "      display:flex;\n",
              "      flex-wrap:wrap;\n",
              "      gap: 12px;\n",
              "    }\n",
              "\n",
              "    .colab-df-convert {\n",
              "      background-color: #E8F0FE;\n",
              "      border: none;\n",
              "      border-radius: 50%;\n",
              "      cursor: pointer;\n",
              "      display: none;\n",
              "      fill: #1967D2;\n",
              "      height: 32px;\n",
              "      padding: 0 0 0 0;\n",
              "      width: 32px;\n",
              "    }\n",
              "\n",
              "    .colab-df-convert:hover {\n",
              "      background-color: #E2EBFA;\n",
              "      box-shadow: 0px 1px 2px rgba(60, 64, 67, 0.3), 0px 1px 3px 1px rgba(60, 64, 67, 0.15);\n",
              "      fill: #174EA6;\n",
              "    }\n",
              "\n",
              "    [theme=dark] .colab-df-convert {\n",
              "      background-color: #3B4455;\n",
              "      fill: #D2E3FC;\n",
              "    }\n",
              "\n",
              "    [theme=dark] .colab-df-convert:hover {\n",
              "      background-color: #434B5C;\n",
              "      box-shadow: 0px 1px 3px 1px rgba(0, 0, 0, 0.15);\n",
              "      filter: drop-shadow(0px 1px 2px rgba(0, 0, 0, 0.3));\n",
              "      fill: #FFFFFF;\n",
              "    }\n",
              "  </style>\n",
              "\n",
              "      <script>\n",
              "        const buttonEl =\n",
              "          document.querySelector('#df-3eea5627-cad3-4fc9-b650-9d714f296169 button.colab-df-convert');\n",
              "        buttonEl.style.display =\n",
              "          google.colab.kernel.accessAllowed ? 'block' : 'none';\n",
              "\n",
              "        async function convertToInteractive(key) {\n",
              "          const element = document.querySelector('#df-3eea5627-cad3-4fc9-b650-9d714f296169');\n",
              "          const dataTable =\n",
              "            await google.colab.kernel.invokeFunction('convertToInteractive',\n",
              "                                                     [key], {});\n",
              "          if (!dataTable) return;\n",
              "\n",
              "          const docLinkHtml = 'Like what you see? Visit the ' +\n",
              "            '<a target=\"_blank\" href=https://colab.research.google.com/notebooks/data_table.ipynb>data table notebook</a>'\n",
              "            + ' to learn more about interactive tables.';\n",
              "          element.innerHTML = '';\n",
              "          dataTable['output_type'] = 'display_data';\n",
              "          await google.colab.output.renderOutput(dataTable, element);\n",
              "          const docLink = document.createElement('div');\n",
              "          docLink.innerHTML = docLinkHtml;\n",
              "          element.appendChild(docLink);\n",
              "        }\n",
              "      </script>\n",
              "    </div>\n",
              "  </div>\n",
              "  "
            ]
          },
          "metadata": {},
          "execution_count": 19
        }
      ],
      "source": [
        "work_data = data.copy()\n",
        "work_data.head()"
      ]
    },
    {
      "cell_type": "code",
      "execution_count": 20,
      "id": "1910015c",
      "metadata": {
        "id": "1910015c"
      },
      "outputs": [],
      "source": [
        "y = work_data[['fertility']]\n",
        "X = work_data.drop('fertility', axis=1)"
      ]
    },
    {
      "cell_type": "code",
      "execution_count": null,
      "id": "4ea4fb8c",
      "metadata": {
        "id": "4ea4fb8c",
        "outputId": "059b3f5a-a23e-4ef0-82e2-f18320a7e6c5"
      },
      "outputs": [
        {
          "data": {
            "text/html": [
              "<div>\n",
              "<style scoped>\n",
              "    .dataframe tbody tr th:only-of-type {\n",
              "        vertical-align: middle;\n",
              "    }\n",
              "\n",
              "    .dataframe tbody tr th {\n",
              "        vertical-align: top;\n",
              "    }\n",
              "\n",
              "    .dataframe thead th {\n",
              "        text-align: right;\n",
              "    }\n",
              "</style>\n",
              "<table border=\"1\" class=\"dataframe\">\n",
              "  <thead>\n",
              "    <tr style=\"text-align: right;\">\n",
              "      <th></th>\n",
              "      <th>N</th>\n",
              "      <th>P</th>\n",
              "      <th>K</th>\n",
              "      <th>ph</th>\n",
              "      <th>ec</th>\n",
              "      <th>oc</th>\n",
              "      <th>S</th>\n",
              "      <th>zn</th>\n",
              "      <th>fe</th>\n",
              "      <th>cu</th>\n",
              "      <th>Mn</th>\n",
              "      <th>B</th>\n",
              "    </tr>\n",
              "  </thead>\n",
              "  <tbody>\n",
              "    <tr>\n",
              "      <th>0</th>\n",
              "      <td>138</td>\n",
              "      <td>8.6</td>\n",
              "      <td>560</td>\n",
              "      <td>7.46</td>\n",
              "      <td>0.62</td>\n",
              "      <td>0.70</td>\n",
              "      <td>5.9</td>\n",
              "      <td>0.24</td>\n",
              "      <td>0.31</td>\n",
              "      <td>0.77</td>\n",
              "      <td>8.71</td>\n",
              "      <td>0.11</td>\n",
              "    </tr>\n",
              "    <tr>\n",
              "      <th>1</th>\n",
              "      <td>213</td>\n",
              "      <td>7.5</td>\n",
              "      <td>338</td>\n",
              "      <td>7.62</td>\n",
              "      <td>0.75</td>\n",
              "      <td>1.06</td>\n",
              "      <td>25.4</td>\n",
              "      <td>0.30</td>\n",
              "      <td>0.86</td>\n",
              "      <td>1.54</td>\n",
              "      <td>2.89</td>\n",
              "      <td>2.29</td>\n",
              "    </tr>\n",
              "    <tr>\n",
              "      <th>2</th>\n",
              "      <td>163</td>\n",
              "      <td>9.6</td>\n",
              "      <td>718</td>\n",
              "      <td>7.59</td>\n",
              "      <td>0.51</td>\n",
              "      <td>1.11</td>\n",
              "      <td>14.3</td>\n",
              "      <td>0.30</td>\n",
              "      <td>0.86</td>\n",
              "      <td>1.57</td>\n",
              "      <td>2.70</td>\n",
              "      <td>2.03</td>\n",
              "    </tr>\n",
              "    <tr>\n",
              "      <th>3</th>\n",
              "      <td>157</td>\n",
              "      <td>6.8</td>\n",
              "      <td>475</td>\n",
              "      <td>7.64</td>\n",
              "      <td>0.58</td>\n",
              "      <td>0.94</td>\n",
              "      <td>26.0</td>\n",
              "      <td>0.34</td>\n",
              "      <td>0.54</td>\n",
              "      <td>1.53</td>\n",
              "      <td>2.65</td>\n",
              "      <td>1.82</td>\n",
              "    </tr>\n",
              "    <tr>\n",
              "      <th>4</th>\n",
              "      <td>270</td>\n",
              "      <td>9.9</td>\n",
              "      <td>444</td>\n",
              "      <td>7.63</td>\n",
              "      <td>0.40</td>\n",
              "      <td>0.86</td>\n",
              "      <td>11.8</td>\n",
              "      <td>0.25</td>\n",
              "      <td>0.76</td>\n",
              "      <td>1.69</td>\n",
              "      <td>2.43</td>\n",
              "      <td>2.26</td>\n",
              "    </tr>\n",
              "  </tbody>\n",
              "</table>\n",
              "</div>"
            ],
            "text/plain": [
              "     N    P    K    ph    ec    oc     S    zn    fe    cu    Mn     B\n",
              "0  138  8.6  560  7.46  0.62  0.70   5.9  0.24  0.31  0.77  8.71  0.11\n",
              "1  213  7.5  338  7.62  0.75  1.06  25.4  0.30  0.86  1.54  2.89  2.29\n",
              "2  163  9.6  718  7.59  0.51  1.11  14.3  0.30  0.86  1.57  2.70  2.03\n",
              "3  157  6.8  475  7.64  0.58  0.94  26.0  0.34  0.54  1.53  2.65  1.82\n",
              "4  270  9.9  444  7.63  0.40  0.86  11.8  0.25  0.76  1.69  2.43  2.26"
            ]
          },
          "execution_count": 8,
          "metadata": {},
          "output_type": "execute_result"
        }
      ],
      "source": [
        "X.head()"
      ]
    },
    {
      "cell_type": "code",
      "execution_count": null,
      "id": "5b9f9710",
      "metadata": {
        "id": "5b9f9710",
        "outputId": "9ef6f077-e0ab-4280-a099-28234cdeea65"
      },
      "outputs": [
        {
          "data": {
            "text/html": [
              "<div>\n",
              "<style scoped>\n",
              "    .dataframe tbody tr th:only-of-type {\n",
              "        vertical-align: middle;\n",
              "    }\n",
              "\n",
              "    .dataframe tbody tr th {\n",
              "        vertical-align: top;\n",
              "    }\n",
              "\n",
              "    .dataframe thead th {\n",
              "        text-align: right;\n",
              "    }\n",
              "</style>\n",
              "<table border=\"1\" class=\"dataframe\">\n",
              "  <thead>\n",
              "    <tr style=\"text-align: right;\">\n",
              "      <th></th>\n",
              "      <th>fertility</th>\n",
              "    </tr>\n",
              "  </thead>\n",
              "  <tbody>\n",
              "    <tr>\n",
              "      <th>0</th>\n",
              "      <td>0</td>\n",
              "    </tr>\n",
              "    <tr>\n",
              "      <th>1</th>\n",
              "      <td>0</td>\n",
              "    </tr>\n",
              "    <tr>\n",
              "      <th>2</th>\n",
              "      <td>0</td>\n",
              "    </tr>\n",
              "    <tr>\n",
              "      <th>3</th>\n",
              "      <td>0</td>\n",
              "    </tr>\n",
              "    <tr>\n",
              "      <th>4</th>\n",
              "      <td>1</td>\n",
              "    </tr>\n",
              "  </tbody>\n",
              "</table>\n",
              "</div>"
            ],
            "text/plain": [
              "   fertility\n",
              "0          0\n",
              "1          0\n",
              "2          0\n",
              "3          0\n",
              "4          1"
            ]
          },
          "execution_count": 9,
          "metadata": {},
          "output_type": "execute_result"
        }
      ],
      "source": [
        "y.head()"
      ]
    },
    {
      "cell_type": "code",
      "execution_count": 21,
      "id": "507e7cec",
      "metadata": {
        "id": "507e7cec"
      },
      "outputs": [],
      "source": [
        "corr = X.corr()"
      ]
    },
    {
      "cell_type": "code",
      "execution_count": 39,
      "id": "40dbdd02",
      "metadata": {
        "colab": {
          "base_uri": "https://localhost:8080/",
          "height": 384
        },
        "id": "40dbdd02",
        "outputId": "13b9ff39-35d3-4f2c-84a3-2c33f94543f3"
      },
      "outputs": [
        {
          "output_type": "execute_result",
          "data": {
            "text/plain": [
              "<matplotlib.axes._subplots.AxesSubplot at 0x7fbd31da0a00>"
            ]
          },
          "metadata": {},
          "execution_count": 39
        },
        {
          "output_type": "display_data",
          "data": {
            "text/plain": [
              "<Figure size 432x432 with 2 Axes>"
            ],
            "image/png": "[encoded data removed]"
          },
          "metadata": {
            "needs_background": "light"
          }
        }
      ],
      "source": [
        "import seaborn as sns\n",
        "import matplotlib.pyplot as plt\n",
        "\n",
        "f, ax = plt.subplots(figsize=(6, 6))\n",
        "sns.heatmap(corr,\n",
        "    cmap=sns.diverging_palette(220, 10, as_cmap=True),\n",
        "    vmin=-1.0, vmax=1.0,\n",
        "    square=True, ax=ax)"
      ]
    },
    {
      "cell_type": "code",
      "execution_count": null,
      "id": "dae013bf",
      "metadata": {
        "id": "dae013bf",
        "outputId": "b41994fe-6568-4988-b7a5-0a123a516107"
      },
      "outputs": [
        {
          "data": {
            "image/png": "[encoded data removed]",
            "text/plain": [
              "<Figure size 1500x1500 with 12 Axes>"
            ]
          },
          "metadata": {},
          "output_type": "display_data"
        }
      ],
      "source": [
        "X.hist(bins=50, figsize=(15,15))\n",
        "plt.show()"
      ]
    },
    {
      "cell_type": "markdown",
      "id": "b9ccfed5",
      "metadata": {
        "id": "b9ccfed5"
      },
      "source": [
        "# Prepare the Data for Machine Learning Algorithms"
      ]
    },
    {
      "cell_type": "markdown",
      "id": "81754cb4",
      "metadata": {
        "id": "81754cb4"
      },
      "source": [
        "### Feature Scaling"
      ]
    },
    {
      "cell_type": "code",
      "execution_count": 22,
      "id": "18389af6",
      "metadata": {
        "id": "18389af6"
      },
      "outputs": [],
      "source": [
        "transformed_X = X.apply(lambda x: np.log10(x) if np.issubdtype(x.dtype, np.number) else x)"
      ]
    },
    {
      "cell_type": "code",
      "execution_count": null,
      "id": "f5a164e2",
      "metadata": {
        "id": "f5a164e2",
        "outputId": "faa22e44-4d3c-4908-f3e9-3f50c3d50d5d"
      },
      "outputs": [
        {
          "data": {
            "image/png": "[encoded data removed]",
            "text/plain": [
              "<Figure size 1500x1500 with 12 Axes>"
            ]
          },
          "metadata": {},
          "output_type": "display_data"
        }
      ],
      "source": [
        "transformed_X.hist(bins=50, figsize=(15,15))\n",
        "plt.show()"
      ]
    },
    {
      "cell_type": "markdown",
      "id": "b196b17b",
      "metadata": {
        "id": "b196b17b"
      },
      "source": [
        "# Select and Train a Model"
      ]
    },
    {
      "cell_type": "markdown",
      "id": "a9dd04cf",
      "metadata": {
        "id": "a9dd04cf"
      },
      "source": [
        "### Splitting data into train and val"
      ]
    },
    {
      "cell_type": "code",
      "execution_count": 23,
      "id": "1b8f3d04",
      "metadata": {
        "colab": {
          "base_uri": "https://localhost:8080/"
        },
        "id": "1b8f3d04",
        "outputId": "6cda4e05-3fa6-4cd3-a9ae-af5537161e62"
      },
      "outputs": [
        {
          "output_type": "execute_result",
          "data": {
            "text/plain": [
              "(660, 12)"
            ]
          },
          "metadata": {},
          "execution_count": 23
        }
      ],
      "source": [
        "from sklearn.model_selection import train_test_split\n",
        "\n",
        "X_train, X_val, y_train, y_val = train_test_split(X, y, shuffle=True, random_state = 42)\n",
        "X_train.shape"
      ]
    },
    {
      "cell_type": "code",
      "execution_count": 24,
      "id": "92d5b785",
      "metadata": {
        "id": "92d5b785"
      },
      "outputs": [],
      "source": [
        "from sklearn import tree, ensemble\n",
        "from sklearn.naive_bayes import GaussianNB\n",
        "from sklearn.svm import SVC\n",
        "from sklearn.neighbors import KNeighborsClassifier"
      ]
    },
    {
      "cell_type": "code",
      "execution_count": 25,
      "id": "936b80ae",
      "metadata": {
        "id": "936b80ae"
      },
      "outputs": [],
      "source": [
        "y_train_ravel = y_train.values.ravel()"
      ]
    },
    {
      "cell_type": "code",
      "execution_count": 26,
      "id": "b2ed2a69",
      "metadata": {
        "id": "b2ed2a69"
      },
      "outputs": [],
      "source": [
        "svcClf = SVC()\n",
        "svcClf.fit(X_train, y_train_ravel)\n",
        "svc_pred = svcClf.predict(X_val)"
      ]
    },
    {
      "cell_type": "code",
      "execution_count": 27,
      "id": "2e95fc38",
      "metadata": {
        "id": "2e95fc38"
      },
      "outputs": [],
      "source": [
        "forestClf = ensemble.RandomForestClassifier()\n",
        "forestClf.fit(X_train, y_train_ravel)\n",
        "forest_pred = forestClf.predict(X_val)"
      ]
    },
    {
      "cell_type": "code",
      "execution_count": 28,
      "id": "18a8e58a",
      "metadata": {
        "id": "18a8e58a"
      },
      "outputs": [],
      "source": [
        "nbClf = GaussianNB()\n",
        "nbClf.fit(X_train, y_train_ravel)\n",
        "nb_pred = nbClf.predict(X_val)"
      ]
    },
    {
      "cell_type": "code",
      "execution_count": 29,
      "id": "be871d00",
      "metadata": {
        "id": "be871d00"
      },
      "outputs": [],
      "source": [
        "knnClf = KNeighborsClassifier()\n",
        "knnClf.fit(X_train, y_train_ravel)\n",
        "knn_pred = knnClf.predict(X_val)"
      ]
    },
    {
      "cell_type": "code",
      "execution_count": 30,
      "id": "9ed9e418",
      "metadata": {
        "id": "9ed9e418"
      },
      "outputs": [],
      "source": [
        "treeClf = tree.DecisionTreeClassifier()\n",
        "treeClf.fit(X_train, y_train_ravel)\n",
        "tree_pred = treeClf.predict(X_val)"
      ]
    },
    {
      "cell_type": "code",
      "execution_count": 40,
      "id": "6c54ffb3",
      "metadata": {
        "colab": {
          "base_uri": "https://localhost:8080/",
          "height": 424
        },
        "id": "6c54ffb3",
        "outputId": "7930bc3c-aaf6-4cec-c822-4b6fcd414591"
      },
      "outputs": [
        {
          "output_type": "stream",
          "name": "stdout",
          "text": [
            "SVC  accuarcy is  0.8545454545454545\n",
            "RandomForestClassifier  accuarcy is  0.8681818181818182\n",
            "GaussianNB  accuarcy is  0.4727272727272727\n",
            "KNeighborsClassifier  accuarcy is  0.8409090909090909\n",
            "DecisionTreeClassifier  accuarcy is  0.8590909090909091\n"
          ]
        },
        {
          "output_type": "execute_result",
          "data": {
            "text/plain": [
              "<matplotlib.axes._subplots.AxesSubplot at 0x7fbd30fbbeb0>"
            ]
          },
          "metadata": {},
          "execution_count": 40
        },
        {
          "output_type": "display_data",
          "data": {
            "text/plain": [
              "<Figure size 720x360 with 1 Axes>"
            ],
            "image/png": "[encoded data removed]"
          },
          "metadata": {
            "needs_background": "light"
          }
        }
      ],
      "source": [
        "from sklearn.metrics import accuracy_score\n",
        "\n",
        "models = [svcClf, forestClf, nbClf, knnClf, treeClf]\n",
        "accs = []\n",
        "titles = []\n",
        "\n",
        "for model in models:\n",
        "    pred = model.predict(X_val)\n",
        "    model_acc = accuracy_score(y_val, pred)\n",
        "    accs.append(model_acc)\n",
        "    titles.append(type(model).__name__)\n",
        "    print(type(model).__name__, \" accuarcy is \", model_acc)\n",
        "\n",
        "fig = plt.figure(figsize=(10, 5))\n",
        "sns.barplot(x = titles, y=accs)"
      ]
    },
    {
      "cell_type": "markdown",
      "id": "1854bcaa",
      "metadata": {
        "id": "1854bcaa"
      },
      "source": [
        "### Pros & Cons\n",
        "**SVC**\n",
        "1. clear margin of separation between classes\n",
        "2. more effective in high dimensional spaces\n",
        "3. effective in cases where the number of dimensions is greater than the number of samples\n",
        "4. memory efficient                                                                                                          \n",
        "5. not suitable for large data sets                                                                                          \n",
        "\n",
        "**Random Forest Classifier**\n",
        "1. quite fast\n",
        "2. able to deal with unbalanced and missing data\n",
        "3. may over-fit data sets that are particularly noisy\n",
        "4. data-hungry\n",
        "\n",
        "**GaussianNB**\n",
        "1. very fast \n",
        "2. better than other models with less training data if the assumption of independence of features holds\n",
        "3. If you have categorical input variables, the Naive Bayes algorithm performs exceptionally well in comparison to numerical variables\n",
        "4. effectively works in Multi-class predictions.\n",
        "\n",
        "**KNeighborsClassifier**\n",
        "1. robust to noisy data\n",
        "2. effective if the training data is large\n",
        "\n",
        "**DecisionTreeClassifier**\n",
        "1. does not require normalization of data\n",
        "2. does not require scaling of data as well\n",
        "3. higher time to train the model"
      ]
    },
    {
      "cell_type": "code",
      "execution_count": 32,
      "id": "afde4f80",
      "metadata": {
        "id": "afde4f80"
      },
      "outputs": [],
      "source": [
        "forest = ensemble.RandomForestClassifier(random_state=42)"
      ]
    },
    {
      "cell_type": "code",
      "execution_count": 33,
      "id": "f7d06202",
      "metadata": {
        "id": "f7d06202"
      },
      "outputs": [],
      "source": [
        "param_grid = { \n",
        "    'n_estimators': [200, 300, 500],\n",
        "    'max_features': ['auto', 'sqrt', 'log2'],\n",
        "    'max_depth' : [4, 5, 6 ,7 ,8, 9, 10],\n",
        "    'criterion' :['gini', 'entropy']\n",
        "}"
      ]
    },
    {
      "cell_type": "code",
      "execution_count": 34,
      "id": "b4449099",
      "metadata": {
        "colab": {
          "base_uri": "https://localhost:8080/"
        },
        "id": "b4449099",
        "outputId": "a43eae54-6ea7-40de-fef2-836ee51fca0b"
      },
      "outputs": [
        {
          "output_type": "execute_result",
          "data": {
            "text/plain": [
              "GridSearchCV(cv=5, estimator=RandomForestClassifier(random_state=42),\n",
              "             param_grid={'criterion': ['gini', 'entropy'],\n",
              "                         'max_depth': [4, 5, 6, 7, 8, 9, 10],\n",
              "                         'max_features': ['auto', 'sqrt', 'log2'],\n",
              "                         'n_estimators': [200, 300, 500]})"
            ]
          },
          "metadata": {},
          "execution_count": 34
        }
      ],
      "source": [
        "from sklearn.model_selection import GridSearchCV\n",
        "\n",
        "clf = GridSearchCV(estimator=forest, param_grid=param_grid, cv= 5)\n",
        "clf.fit(X_train, y_train_ravel)"
      ]
    },
    {
      "cell_type": "code",
      "execution_count": 35,
      "id": "3e4ed94e",
      "metadata": {
        "colab": {
          "base_uri": "https://localhost:8080/"
        },
        "id": "3e4ed94e",
        "outputId": "64c9652d-5375-4c60-d59e-f934764e24db"
      },
      "outputs": [
        {
          "output_type": "execute_result",
          "data": {
            "text/plain": [
              "{'criterion': 'gini',\n",
              " 'max_depth': 4,\n",
              " 'max_features': 'auto',\n",
              " 'n_estimators': 500}"
            ]
          },
          "metadata": {},
          "execution_count": 35
        }
      ],
      "source": [
        "clf.best_params_"
      ]
    },
    {
      "cell_type": "markdown",
      "source": [
        "# Training the model"
      ],
      "metadata": {
        "id": "ux_h7Yra92p1"
      },
      "id": "ux_h7Yra92p1"
    },
    {
      "cell_type": "code",
      "execution_count": 36,
      "id": "4e0ff978",
      "metadata": {
        "id": "4e0ff978"
      },
      "outputs": [],
      "source": [
        "model = ensemble.RandomForestClassifier(criterion = 'gini',\n",
        " max_depth = 4,\n",
        " max_features = 'auto',\n",
        " n_estimators = 500, random_state=42)"
      ]
    },
    {
      "cell_type": "code",
      "source": [
        "model.fit(X_train, y_train_ravel)"
      ],
      "metadata": {
        "colab": {
          "base_uri": "https://localhost:8080/"
        },
        "id": "K5aTxJRW-Q-P",
        "outputId": "d190d0d9-0f45-40b2-edeb-518d2417b842"
      },
      "id": "K5aTxJRW-Q-P",
      "execution_count": 37,
      "outputs": [
        {
          "output_type": "execute_result",
          "data": {
            "text/plain": [
              "RandomForestClassifier(max_depth=4, n_estimators=500, random_state=42)"
            ]
          },
          "metadata": {},
          "execution_count": 37
        }
      ]
    },
    {
      "cell_type": "code",
      "source": [
        "preds = model.predict(X_val)"
      ],
      "metadata": {
        "id": "VF5PKrJY-VqR"
      },
      "id": "VF5PKrJY-VqR",
      "execution_count": 38,
      "outputs": []
    },
    {
      "cell_type": "code",
      "source": [
        "mode_acc = accuracy_score(y_val, preds)\n",
        "mode_acc"
      ],
      "metadata": {
        "colab": {
          "base_uri": "https://localhost:8080/"
        },
        "id": "8TSzllTr-Z7o",
        "outputId": "204fe37e-2f39-4fac-a4da-7ea9bc310ded"
      },
      "id": "8TSzllTr-Z7o",
      "execution_count": 41,
      "outputs": [
        {
          "output_type": "execute_result",
          "data": {
            "text/plain": [
              "0.8590909090909091"
            ]
          },
          "metadata": {},
          "execution_count": 41
        }
      ]
    },
    {
      "cell_type": "markdown",
      "source": [
        "### Save model as pkl"
      ],
      "metadata": {
        "id": "drZYjjl8Bu3H"
      },
      "id": "drZYjjl8Bu3H"
    },
    {
      "cell_type": "code",
      "source": [
        "import pickle\n",
        "\n",
        "with open('random_forest_pkl.pkl', 'wb') as file:\n",
        "  pickle.dump(model, file)"
      ],
      "metadata": {
        "id": "dxtuAuUZBLay"
      },
      "id": "dxtuAuUZBLay",
      "execution_count": 55,
      "outputs": []
    },
    {
      "cell_type": "markdown",
      "source": [
        "### Load model"
      ],
      "metadata": {
        "id": "i9dHq3j8BzT8"
      },
      "id": "i9dHq3j8BzT8"
    },
    {
      "cell_type": "code",
      "source": [
        "with open('random_forest_pkl.pkl', 'rb') as file:\n",
        "  model = pickle.load(file)"
      ],
      "metadata": {
        "id": "PssMt618BpHF"
      },
      "id": "PssMt618BpHF",
      "execution_count": 56,
      "outputs": []
    },
    {
      "cell_type": "code",
      "source": [],
      "metadata": {
        "id": "PZvSGVVz_--t"
      },
      "id": "PZvSGVVz_--t",
      "execution_count": null,
      "outputs": []
    }
  ],
  "metadata": {
    "kernelspec": {
      "display_name": "Python 3 (ipykernel)",
      "language": "python",
      "name": "python3"
    },
    "language_info": {
      "codemirror_mode": {
        "name": "ipython",
        "version": 3
      },
      "file_extension": ".py",
      "mimetype": "text/x-python",
      "name": "python",
      "nbconvert_exporter": "python",
      "pygments_lexer": "ipython3",
      "version": "3.9.13"
    },
    "colab": {
      "provenance": []
    }
  },
  "nbformat": 4,
  "nbformat_minor": 5
}
